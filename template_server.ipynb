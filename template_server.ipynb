name: Create Minecraft Colab (Template)

on:
  workflow_dispatch:
    inputs:
      username:
        description: "User requesting server"
        required: true
      server_name:
        description: "Server name"
        required: true
      software:
        description: "Software (paper/spigot/fabric/vanilla)"
        required: true
      version:
        description: "Minecraft version (e.g., 1.20.1)"
        required: true

jobs:
  build:
    runs-on: ubuntu-latest

    steps:
      - name: Checkout repo
        uses: actions/checkout@v3

      - name: Copy Template Notebook
        run: |
          mkdir -p servers/${{ github.event.inputs.username }}
          cp template_server.ipynb servers/${{ github.event.inputs.username }}/${{ github.event.inputs.server_name }}.ipynb

      - name: Replace Placeholders
        run: |
          FILE=servers/${{ github.event.inputs.username }}/${{ github.event.inputs.server_name }}.ipynb
          sed -i "s/{{USERNAME}}/${{ github.event.inputs.username }}/g" $FILE
          sed -i "s/{{SERVERNAME}}/${{ github.event.inputs.server_name }}/g" $FILE
          sed -i "s/{{SOFTWARE}}/${{ github.event.inputs.software }}/g" $FILE
          sed -i "s/{{VERSION}}/${{ github.event.inputs.version }}/g" $FILE

      - name: Commit Notebook
        run: |
          git config --global user.name "github-actions"
          git config --global user.email "actions@github.com"
          git add servers/${{ github.event.inputs.username }}/${{ github.event.inputs.server_name }}.ipynb
          git commit -m "Generated server notebook for ${{ github.event.inputs.server_name }}" || echo "No changes"
          git push

      - name: Show Colab Link
        run: |
          echo "### ✅ Your Colab Notebook is Ready!" >> $GITHUB_STEP_SUMMARY
          echo "" >> $GITHUB_STEP_SUMMARY
          echo "🔗 [Open Colab](https://colab.research.google.com/github/${{ github.repository }}/blob/main/servers/${{ github.event.inputs.username }}/${{ github.event.inputs.server_name }}.ipynb)" >> $GITHUB_STEP_SUMMARY
          echo "" >> $GITHUB_STEP_SUMMARY
          echo "Go to **Runtime > Run all** in Colab to start your server." >> $GITHUB_STEP_SUMMARY
